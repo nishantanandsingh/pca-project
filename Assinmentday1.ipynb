{
  "nbformat": 4,
  "nbformat_minor": 0,
  "metadata": {
    "colab": {
      "name": "Assinmentday1.ipynb",
      "provenance": [],
      "collapsed_sections": [],
      "authorship_tag": "ABX9TyMztyLNg8Mx7/pxumVOLME4",
      "include_colab_link": true
    },
    "kernelspec": {
      "name": "python3",
      "display_name": "Python 3"
    }
  },
  "cells": [
    {
      "cell_type": "markdown",
      "metadata": {
        "id": "view-in-github",
        "colab_type": "text"
      },
      "source": [
        "<a href=\"https://colab.research.google.com/github/nishantanandsingh/pca-project/blob/master/Assinmentday1.ipynb\" target=\"_parent\"><img src=\"https://colab.research.google.com/assets/colab-badge.svg\" alt=\"Open In Colab\"/></a>"
      ]
    },
    {
      "cell_type": "markdown",
      "metadata": {
        "id": "_xXzfHNQVAz5",
        "colab_type": "text"
      },
      "source": [
        "List and it's Default Funcation  "
      ]
    },
    {
      "cell_type": "code",
      "metadata": {
        "id": "-XB_srk13hpd",
        "colab_type": "code",
        "outputId": "e9f94c70-691d-4876-f9b6-3d4f8cbc07d3",
        "colab": {
          "base_uri": "https://localhost:8080/",
          "height": 34
        }
      },
      "source": [
        "#list without any values\n",
        "List1 = []\n",
        "print(List1)"
      ],
      "execution_count": 0,
      "outputs": [
        {
          "output_type": "stream",
          "text": [
            "[]\n"
          ],
          "name": "stdout"
        }
      ]
    },
    {
      "cell_type": "code",
      "metadata": {
        "id": "mQ4fxCBu3p4j",
        "colab_type": "code",
        "outputId": "e4a3539c-e023-4cca-9b18-63893e6a3090",
        "colab": {
          "base_uri": "https://localhost:8080/",
          "height": 34
        }
      },
      "source": [
        "#list with values \n",
        "List2 = ['N','I','S','H','A','N','T']\n",
        "print(List2)"
      ],
      "execution_count": 0,
      "outputs": [
        {
          "output_type": "stream",
          "text": [
            "['N', 'I', 'S', 'H', 'A', 'N', 'T']\n"
          ],
          "name": "stdout"
        }
      ]
    },
    {
      "cell_type": "code",
      "metadata": {
        "id": "F3AGxUJopnCZ",
        "colab_type": "code",
        "outputId": "305051ee-fbe5-4808-f452-add4c3f8420a",
        "colab": {
          "base_uri": "https://localhost:8080/",
          "height": 34
        }
      },
      "source": [
        "#append(): Adding Element in list\n",
        "List1.append('2')\n",
        "print(List1)"
      ],
      "execution_count": 0,
      "outputs": [
        {
          "output_type": "stream",
          "text": [
            "['2']\n"
          ],
          "name": "stdout"
        }
      ]
    },
    {
      "cell_type": "code",
      "metadata": {
        "id": "fdRRcJq0p4gy",
        "colab_type": "code",
        "outputId": "155745a8-3adc-4366-e75b-7aab20229138",
        "colab": {
          "base_uri": "https://localhost:8080/",
          "height": 34
        }
      },
      "source": [
        "#insert(): Inserts an elements at specified position\n",
        "List1.insert(1,\"Nishant\")\n",
        "print(List1)"
      ],
      "execution_count": 0,
      "outputs": [
        {
          "output_type": "stream",
          "text": [
            "['2', 'Nishant']\n"
          ],
          "name": "stdout"
        }
      ]
    },
    {
      "cell_type": "code",
      "metadata": {
        "id": "PT6EqHQ7qHwv",
        "colab_type": "code",
        "outputId": "b81b877a-4a4a-470d-ffa0-a7da8cfedaa3",
        "colab": {
          "base_uri": "https://localhost:8080/",
          "height": 34
        }
      },
      "source": [
        "#extend(): Adds contents to 2nd List to the end of 1st List\n",
        "List1.extend(List2)\n",
        "print(List1)"
      ],
      "execution_count": 0,
      "outputs": [
        {
          "output_type": "stream",
          "text": [
            "['2', 'Nishant', 'N', 'I', 'S', 'H', 'A', 'N', 'T']\n"
          ],
          "name": "stdout"
        }
      ]
    },
    {
      "cell_type": "code",
      "metadata": {
        "id": "1FmjgBRuqhFV",
        "colab_type": "code",
        "outputId": "7ba405d2-34a7-464d-bf0f-ae133c8a9b0b",
        "colab": {
          "base_uri": "https://localhost:8080/",
          "height": 34
        }
      },
      "source": [
        "#sum() : Calculate sum of all the elements of List(only for Numeric values)\n",
        "List3 = [1,2,5,6,4,1,7,8,1]\n",
        "print(sum(List3))"
      ],
      "execution_count": 0,
      "outputs": [
        {
          "output_type": "stream",
          "text": [
            "35\n"
          ],
          "name": "stdout"
        }
      ]
    },
    {
      "cell_type": "code",
      "metadata": {
        "id": "iFunPca0rA1v",
        "colab_type": "code",
        "outputId": "19baae65-95cb-4567-f9a5-1b00b3386428",
        "colab": {
          "base_uri": "https://localhost:8080/",
          "height": 34
        }
      },
      "source": [
        "# count():Calculates total occurrence of given element of List\n",
        "print(List3.count(1))"
      ],
      "execution_count": 0,
      "outputs": [
        {
          "output_type": "stream",
          "text": [
            "3\n"
          ],
          "name": "stdout"
        }
      ]
    },
    {
      "cell_type": "code",
      "metadata": {
        "id": "RPn3XV47sEhi",
        "colab_type": "code",
        "outputId": "cd0bf38d-b41f-4ae8-eeae-16a19c89a87b",
        "colab": {
          "base_uri": "https://localhost:8080/",
          "height": 34
        }
      },
      "source": [
        "#length:Calculates total length of List\n",
        "print(len(List2))"
      ],
      "execution_count": 0,
      "outputs": [
        {
          "output_type": "stream",
          "text": [
            "7\n"
          ],
          "name": "stdout"
        }
      ]
    },
    {
      "cell_type": "code",
      "metadata": {
        "id": "ayLMLKR26r4d",
        "colab_type": "code",
        "outputId": "7d7e6055-47ae-45b0-ab22-6fbfcd9d1668",
        "colab": {
          "base_uri": "https://localhost:8080/",
          "height": 34
        }
      },
      "source": [
        "#index(): Returns the index of first occurrence. Start and End index are not necessary parameters\n",
        "print(List3.index(1))"
      ],
      "execution_count": 0,
      "outputs": [
        {
          "output_type": "stream",
          "text": [
            "0\n"
          ],
          "name": "stdout"
        }
      ]
    },
    {
      "cell_type": "code",
      "metadata": {
        "id": "OR7rBZIz7pat",
        "colab_type": "code",
        "outputId": "dea294e2-658e-47ba-d8c6-f10130d358c1",
        "colab": {
          "base_uri": "https://localhost:8080/",
          "height": 34
        }
      },
      "source": [
        "#min() : Calculates minimum of all the elements of List\n",
        "print(min(List3))"
      ],
      "execution_count": 0,
      "outputs": [
        {
          "output_type": "stream",
          "text": [
            "1\n"
          ],
          "name": "stdout"
        }
      ]
    },
    {
      "cell_type": "code",
      "metadata": {
        "id": "LiA8sg4G75iN",
        "colab_type": "code",
        "outputId": "8c06e3c4-d1ca-4f74-92d9-715fb766409b",
        "colab": {
          "base_uri": "https://localhost:8080/",
          "height": 34
        }
      },
      "source": [
        "#max(): Calculates maximum of all the elements of List\n",
        "print(max(List3))"
      ],
      "execution_count": 0,
      "outputs": [
        {
          "output_type": "stream",
          "text": [
            "8\n"
          ],
          "name": "stdout"
        }
      ]
    },
    {
      "cell_type": "code",
      "metadata": {
        "id": "fRRB61U88BFc",
        "colab_type": "code",
        "outputId": "40eb30df-fc91-472a-a7c2-930c915c4024",
        "colab": {
          "base_uri": "https://localhost:8080/",
          "height": 34
        }
      },
      "source": [
        "#sort(): Sort the given data  in ascending order (reverse=True)\n",
        "List3.sort(reverse=True)\n",
        "print(List3)"
      ],
      "execution_count": 0,
      "outputs": [
        {
          "output_type": "stream",
          "text": [
            "[8, 7, 6, 5, 4, 2, 1, 1, 1]\n"
          ],
          "name": "stdout"
        }
      ]
    },
    {
      "cell_type": "code",
      "metadata": {
        "id": "KT5CJCfC8pKi",
        "colab_type": "code",
        "outputId": "f773b543-50de-4e61-fd87-89e56271809d",
        "colab": {
          "base_uri": "https://localhost:8080/",
          "height": 34
        }
      },
      "source": [
        "#pop(): Index is not a necessary, if not mentioned takes the last index\n",
        "print(List2.pop())"
      ],
      "execution_count": 0,
      "outputs": [
        {
          "output_type": "stream",
          "text": [
            "T\n"
          ],
          "name": "stdout"
        }
      ]
    },
    {
      "cell_type": "code",
      "metadata": {
        "id": "AA_TxyBH9Bhk",
        "colab_type": "code",
        "outputId": "4af1b533-64b4-4779-f180-a9bec6ec9f59",
        "colab": {
          "base_uri": "https://localhost:8080/",
          "height": 34
        }
      },
      "source": [
        "#del() : Element to be deleted is mentioned using list name and index\n",
        "del List3[0]\n",
        "print(List3)"
      ],
      "execution_count": 0,
      "outputs": [
        {
          "output_type": "stream",
          "text": [
            "[7, 6, 5, 4, 2, 1, 1, 1]\n"
          ],
          "name": "stdout"
        }
      ]
    },
    {
      "cell_type": "code",
      "metadata": {
        "id": "HQsmuQLr9UWv",
        "colab_type": "code",
        "outputId": "d11a1d59-b041-4911-f475-c321cc09f39d",
        "colab": {
          "base_uri": "https://localhost:8080/",
          "height": 34
        }
      },
      "source": [
        "#remove(): Element to be deleted is mentioned using list name and element\n",
        "List3.remove(4) \n",
        "print(List3) "
      ],
      "execution_count": 0,
      "outputs": [
        {
          "output_type": "stream",
          "text": [
            "[7, 6, 5, 2, 1, 1, 1]\n"
          ],
          "name": "stdout"
        }
      ]
    },
    {
      "cell_type": "markdown",
      "metadata": {
        "id": "b6PDqxBj90iy",
        "colab_type": "text"
      },
      "source": [
        "Dictionary and it's Default Funcation  "
      ]
    },
    {
      "cell_type": "code",
      "metadata": {
        "id": "aFCBMnZS-DXf",
        "colab_type": "code",
        "outputId": "e0a5a62e-7380-493a-8f43-4a6a0d372d7c",
        "colab": {
          "base_uri": "https://localhost:8080/",
          "height": 34
        }
      },
      "source": [
        "# Creating a Dictionary  \n",
        "Dict = {1: 'Nishant', 2: 'Anand', 3: 'Singh',4:'Rajput'}\n",
        "print(Dict) "
      ],
      "execution_count": 0,
      "outputs": [
        {
          "output_type": "stream",
          "text": [
            "{1: 'Nishant', 2: 'Anand', 3: 'Singh', 4: 'Rajput'}\n"
          ],
          "name": "stdout"
        }
      ]
    },
    {
      "cell_type": "code",
      "metadata": {
        "id": "m9tPRjP9-0bR",
        "colab_type": "code",
        "outputId": "6bef92a7-d6a8-4377-f1c8-19afa4fd414c",
        "colab": {
          "base_uri": "https://localhost:8080/",
          "height": 34
        }
      },
      "source": [
        "# Adding elements in dictionary\n",
        "Dict[5]='Hello'\n",
        "print(Dict)"
      ],
      "execution_count": 0,
      "outputs": [
        {
          "output_type": "stream",
          "text": [
            "{1: 'Nishant', 2: 'Anand', 3: 'Singh', 4: 'Rajput', 5: 'Hello'}\n"
          ],
          "name": "stdout"
        }
      ]
    },
    {
      "cell_type": "code",
      "metadata": {
        "id": "NfGQczY4_SgQ",
        "colab_type": "code",
        "outputId": "896ed79e-e098-4884-ed39-69a0514e9e51",
        "colab": {
          "base_uri": "https://localhost:8080/",
          "height": 34
        }
      },
      "source": [
        "# Updating existing Key's Value \n",
        "Dict[4] = 'Hii'\n",
        "print(Dict)"
      ],
      "execution_count": 0,
      "outputs": [
        {
          "output_type": "stream",
          "text": [
            "{1: 'Nishant', 2: 'Anand', 3: 'Singh', 4: 'Hii', 5: 'Hello'}\n"
          ],
          "name": "stdout"
        }
      ]
    },
    {
      "cell_type": "code",
      "metadata": {
        "id": "dtw53nZG_dq0",
        "colab_type": "code",
        "outputId": "1816fba9-7e9a-45fe-c4ce-ddb5208619e6",
        "colab": {
          "base_uri": "https://localhost:8080/",
          "height": 34
        }
      },
      "source": [
        "# accessing a element of dictionary using key \n",
        "print(Dict[5]) "
      ],
      "execution_count": 0,
      "outputs": [
        {
          "output_type": "stream",
          "text": [
            "Hello\n"
          ],
          "name": "stdout"
        }
      ]
    },
    {
      "cell_type": "code",
      "metadata": {
        "id": "uA8QkCxu_-jS",
        "colab_type": "code",
        "outputId": "2d3dea31-02db-4e40-b58a-a489b9bdb3b9",
        "colab": {
          "base_uri": "https://localhost:8080/",
          "height": 34
        }
      },
      "source": [
        "# accessing a element using Get function\n",
        "print(Dict.get(3)) "
      ],
      "execution_count": 0,
      "outputs": [
        {
          "output_type": "stream",
          "text": [
            "Singh\n"
          ],
          "name": "stdout"
        }
      ]
    },
    {
      "cell_type": "code",
      "metadata": {
        "id": "CSVKRx8wAPmc",
        "colab_type": "code",
        "outputId": "53c49838-5b20-4a23-dd1a-1001a7bf154b",
        "colab": {
          "base_uri": "https://localhost:8080/",
          "height": 34
        }
      },
      "source": [
        "# Deleting a Key value using del\n",
        "del Dict[5]\n",
        "print(Dict) "
      ],
      "execution_count": 0,
      "outputs": [
        {
          "output_type": "stream",
          "text": [
            "{1: 'Nishant', 2: 'Anand', 3: 'Singh', 4: 'Hii'}\n"
          ],
          "name": "stdout"
        }
      ]
    },
    {
      "cell_type": "code",
      "metadata": {
        "id": "JWMdUYngApPJ",
        "colab_type": "code",
        "outputId": "7afe4433-32e6-45b9-c6b4-cd5c9d3e17fa",
        "colab": {
          "base_uri": "https://localhost:8080/",
          "height": 197
        }
      },
      "source": [
        "# Deleting a key using pop() method \n",
        "pop_ele = Dict.pop(4)\n",
        "print(pop_ele)\n",
        "print(Dict)"
      ],
      "execution_count": 0,
      "outputs": [
        {
          "output_type": "error",
          "ename": "KeyError",
          "evalue": "ignored",
          "traceback": [
            "\u001b[0;31m---------------------------------------------------------------------------\u001b[0m",
            "\u001b[0;31mKeyError\u001b[0m                                  Traceback (most recent call last)",
            "\u001b[0;32m<ipython-input-39-322ed2dac534>\u001b[0m in \u001b[0;36m<module>\u001b[0;34m()\u001b[0m\n\u001b[0;32m----> 1\u001b[0;31m \u001b[0mpop_ele\u001b[0m \u001b[0;34m=\u001b[0m \u001b[0mDict\u001b[0m\u001b[0;34m.\u001b[0m\u001b[0mpop\u001b[0m\u001b[0;34m(\u001b[0m\u001b[0;36m4\u001b[0m\u001b[0;34m)\u001b[0m\u001b[0;34m\u001b[0m\u001b[0;34m\u001b[0m\u001b[0m\n\u001b[0m\u001b[1;32m      2\u001b[0m \u001b[0mprint\u001b[0m\u001b[0;34m(\u001b[0m\u001b[0mpop_ele\u001b[0m\u001b[0;34m)\u001b[0m\u001b[0;34m\u001b[0m\u001b[0;34m\u001b[0m\u001b[0m\n\u001b[1;32m      3\u001b[0m \u001b[0mprint\u001b[0m\u001b[0;34m(\u001b[0m\u001b[0mDict\u001b[0m\u001b[0;34m)\u001b[0m\u001b[0;34m\u001b[0m\u001b[0;34m\u001b[0m\u001b[0m\n",
            "\u001b[0;31mKeyError\u001b[0m: 4"
          ]
        }
      ]
    },
    {
      "cell_type": "code",
      "metadata": {
        "id": "aB1m9g_JA_xb",
        "colab_type": "code",
        "outputId": "491f30fa-450b-4598-8c92-87a8b519670b",
        "colab": {
          "base_uri": "https://localhost:8080/",
          "height": 51
        }
      },
      "source": [
        "# Deleting an arbitrary key using popitem() function \n",
        "pop_ele = Dict.popitem()\n",
        "print(pop_ele)\n",
        "print(Dict)"
      ],
      "execution_count": 0,
      "outputs": [
        {
          "output_type": "stream",
          "text": [
            "(3, 'Singh')\n",
            "{1: 'Nishant', 2: 'Anand'}\n"
          ],
          "name": "stdout"
        }
      ]
    },
    {
      "cell_type": "code",
      "metadata": {
        "id": "JF1NnDExBfhF",
        "colab_type": "code",
        "outputId": "d9855067-daaf-41a7-de4a-e9892589c604",
        "colab": {
          "base_uri": "https://localhost:8080/",
          "height": 34
        }
      },
      "source": [
        "# Deleting entire Dictionary key value pairs\n",
        "Dict.clear() \n",
        "print(Dict)"
      ],
      "execution_count": 0,
      "outputs": [
        {
          "output_type": "stream",
          "text": [
            "{}\n"
          ],
          "name": "stdout"
        }
      ]
    },
    {
      "cell_type": "markdown",
      "metadata": {
        "id": "jJogmpTSCA0T",
        "colab_type": "text"
      },
      "source": [
        "Set and it's Default Funcation  "
      ]
    },
    {
      "cell_type": "code",
      "metadata": {
        "id": "Fkh2tGxOCFG9",
        "colab_type": "code",
        "outputId": "1dc3d8a8-6aa1-4b26-c7b2-d8097ad97372",
        "colab": {
          "base_uri": "https://localhost:8080/",
          "height": 51
        }
      },
      "source": [
        "# initializing list and converse in set\n",
        "List1 = [ 3, 4, 7, 1, 4, 5 ] \n",
        "print(List1)\n",
        "print(set(List1))"
      ],
      "execution_count": 0,
      "outputs": [
        {
          "output_type": "stream",
          "text": [
            "[3, 4, 7, 1, 4, 5]\n",
            "{1, 3, 4, 5, 7}\n"
          ],
          "name": "stdout"
        }
      ]
    },
    {
      "cell_type": "code",
      "metadata": {
        "id": "cdeV5eUzCuRQ",
        "colab_type": "code",
        "outputId": "0577dfa5-41b1-4ae8-8abd-c2e6a147a738",
        "colab": {
          "base_uri": "https://localhost:8080/",
          "height": 51
        }
      },
      "source": [
        "# initializing tuple and converse in set\n",
        "Tup1 = (3, 4, 1, 4, 5)\n",
        "print(Tup1)\n",
        "print(set(Tup1))"
      ],
      "execution_count": 0,
      "outputs": [
        {
          "output_type": "stream",
          "text": [
            "(3, 4, 1, 4, 5)\n",
            "{1, 3, 4, 5}\n"
          ],
          "name": "stdout"
        }
      ]
    },
    {
      "cell_type": "code",
      "metadata": {
        "id": "_eC0jeiGDNwl",
        "colab_type": "code",
        "outputId": "ba9a9704-5c8c-4a6c-b835-3f136ae4cc95",
        "colab": {
          "base_uri": "https://localhost:8080/",
          "height": 34
        }
      },
      "source": [
        "# initialize set\n",
        "Set = {1,3}\n",
        "print(Set)"
      ],
      "execution_count": 0,
      "outputs": [
        {
          "output_type": "stream",
          "text": [
            "{1, 3}\n"
          ],
          "name": "stdout"
        }
      ]
    },
    {
      "cell_type": "code",
      "metadata": {
        "id": "Sjl9wWEqDcb-",
        "colab_type": "code",
        "outputId": "188f7871-ec6a-47cd-b9b9-bc21925fd34a",
        "colab": {
          "base_uri": "https://localhost:8080/",
          "height": 34
        }
      },
      "source": [
        "#add: add an element\n",
        "Set.add(2)\n",
        "print(Set)"
      ],
      "execution_count": 0,
      "outputs": [
        {
          "output_type": "stream",
          "text": [
            "{1, 2, 3}\n"
          ],
          "name": "stdout"
        }
      ]
    },
    {
      "cell_type": "code",
      "metadata": {
        "id": "gyFVWtHXDqoo",
        "colab_type": "code",
        "outputId": "8ff5b706-b55c-4a3e-9021-fbd05eb8a0f0",
        "colab": {
          "base_uri": "https://localhost:8080/",
          "height": 34
        }
      },
      "source": [
        "#update: add list and set in a set\n",
        "Set.update([4,5], {1,6,8})\n",
        "print(Set)"
      ],
      "execution_count": 0,
      "outputs": [
        {
          "output_type": "stream",
          "text": [
            "{1, 2, 3, 4, 5, 6, 8}\n"
          ],
          "name": "stdout"
        }
      ]
    },
    {
      "cell_type": "code",
      "metadata": {
        "id": "8vl2CgbKEEoe",
        "colab_type": "code",
        "outputId": "f3d029be-ec79-4068-ad1a-714b526b00b4",
        "colab": {
          "base_uri": "https://localhost:8080/",
          "height": 34
        }
      },
      "source": [
        "# discard: remove  an element from set\n",
        "Set.discard(4)\n",
        "print(Set)"
      ],
      "execution_count": 0,
      "outputs": [
        {
          "output_type": "stream",
          "text": [
            "{1, 2, 3, 5, 6, 8}\n"
          ],
          "name": "stdout"
        }
      ]
    },
    {
      "cell_type": "code",
      "metadata": {
        "id": "nxy4L9AmESJa",
        "colab_type": "code",
        "outputId": "2249ed85-46d7-42b8-d9bc-2ca12eb79699",
        "colab": {
          "base_uri": "https://localhost:8080/",
          "height": 34
        }
      },
      "source": [
        "#remove : remove  an element from set\n",
        "Set.remove(6)\n",
        "print(Set)"
      ],
      "execution_count": 0,
      "outputs": [
        {
          "output_type": "stream",
          "text": [
            "{1, 2, 3, 5, 8}\n"
          ],
          "name": "stdout"
        }
      ]
    },
    {
      "cell_type": "code",
      "metadata": {
        "id": "Gzh72R-gErni",
        "colab_type": "code",
        "outputId": "3fb2cec0-e605-4f26-a5f1-95f330a2bc58",
        "colab": {
          "base_uri": "https://localhost:8080/",
          "height": 51
        }
      },
      "source": [
        "#pop: pop an element from set\n",
        "print(Set.pop())\n",
        "print(Set)"
      ],
      "execution_count": 0,
      "outputs": [
        {
          "output_type": "stream",
          "text": [
            "1\n",
            "{2, 3, 5, 8}\n"
          ],
          "name": "stdout"
        }
      ]
    },
    {
      "cell_type": "code",
      "metadata": {
        "id": "-xdCncO-E_QZ",
        "colab_type": "code",
        "outputId": "c1622065-34cb-479e-ce8c-ea4155447063",
        "colab": {
          "base_uri": "https://localhost:8080/",
          "height": 34
        }
      },
      "source": [
        "# clear: remove all element from set\n",
        "Set.clear()\n",
        "print(Set)"
      ],
      "execution_count": 0,
      "outputs": [
        {
          "output_type": "stream",
          "text": [
            "set()\n"
          ],
          "name": "stdout"
        }
      ]
    },
    {
      "cell_type": "code",
      "metadata": {
        "id": "8iRZKFNCFPAc",
        "colab_type": "code",
        "outputId": "daee4830-a228-45e9-f6f0-abe89d58bc88",
        "colab": {
          "base_uri": "https://localhost:8080/",
          "height": 34
        }
      },
      "source": [
        "A = {1, 2, 3, 4, 5}\n",
        "B = {4, 5, 6, 7, 8}\n",
        "# use | operator it is same as union()\n",
        "print(A | B)"
      ],
      "execution_count": 0,
      "outputs": [
        {
          "output_type": "stream",
          "text": [
            "{1, 2, 3, 4, 5, 6, 7, 8}\n"
          ],
          "name": "stdout"
        }
      ]
    },
    {
      "cell_type": "code",
      "metadata": {
        "id": "qY0FWckBFpWX",
        "colab_type": "code",
        "outputId": "bab7432b-c9a3-4ec9-ee7e-4c7df6c2db2a",
        "colab": {
          "base_uri": "https://localhost:8080/",
          "height": 34
        }
      },
      "source": [
        "C = {1, 2, 3, 4, 5}\n",
        "D = {4, 5, 6, 7, 8}\n",
        "# union:it is same as math union function\n",
        "print(C.union(D))"
      ],
      "execution_count": 0,
      "outputs": [
        {
          "output_type": "stream",
          "text": [
            "{1, 2, 3, 4, 5, 6, 7, 8}\n"
          ],
          "name": "stdout"
        }
      ]
    },
    {
      "cell_type": "code",
      "metadata": {
        "id": "HIzELTogGOPp",
        "colab_type": "code",
        "outputId": "8f24df2e-ae6a-4c6b-93ae-1ce2ee1258a2",
        "colab": {
          "base_uri": "https://localhost:8080/",
          "height": 34
        }
      },
      "source": [
        "E = {1, 2, 3, 4, 5}\n",
        "F = {4, 5, 6, 7, 8}\n",
        "# use & operator it is same as intersection()\n",
        "print(E & F)"
      ],
      "execution_count": 0,
      "outputs": [
        {
          "output_type": "stream",
          "text": [
            "{4, 5}\n"
          ],
          "name": "stdout"
        }
      ]
    },
    {
      "cell_type": "code",
      "metadata": {
        "id": "GFcZAl5IGczF",
        "colab_type": "code",
        "outputId": "717b0dde-ce54-4752-d50d-32779c0ecf63",
        "colab": {
          "base_uri": "https://localhost:8080/",
          "height": 34
        }
      },
      "source": [
        "#intersection():use intersection function on A\n",
        "G = {1, 2, 3, 4, 5}\n",
        "H = {4, 5, 6, 7, 8}\n",
        "# union:it is same as math union function\n",
        "print(G.intersection(H))"
      ],
      "execution_count": 0,
      "outputs": [
        {
          "output_type": "stream",
          "text": [
            "{4, 5}\n"
          ],
          "name": "stdout"
        }
      ]
    }
  ]
}